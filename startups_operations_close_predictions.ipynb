{
 "cells": [
  {
   "cell_type": "markdown",
   "metadata": {},
   "source": [
    "# Описание исследования"
   ]
  },
  {
   "cell_type": "markdown",
   "metadata": {},
   "source": [
    "Проводим работу с табличными данными, в которых представлена информация о стартапах, которые функционировали в период с 1980 по 2018 годы. Нужно предсказать, какие из них закроются, а какие нет. Соревнование проводится на популярной платформе Kaggle, что позволит не только применять на практике свои знания в области анализа данных и машинного обучения, но и освоить работу с этой платформой. "
   ]
  },
  {
   "cell_type": "markdown",
   "metadata": {},
   "source": [
    "# Цель исследования"
   ]
  },
  {
   "cell_type": "markdown",
   "metadata": {},
   "source": [
    "- Разработать модель машинного обучения для предсказания продолжения деятельности стартапа. \n",
    "- Провести полноценный разведочный анализ и сформировать рекомендации будущим создателям стартапов (какие факторы влияют на успешность стартапа)."
   ]
  },
  {
   "cell_type": "markdown",
   "metadata": {},
   "source": [
    "# Этапы исследования"
   ]
  },
  {
   "cell_type": "markdown",
   "metadata": {},
   "source": [
    "- загрузка и ознакомление с данными,\n",
    "- предварительная обработка,\n",
    "- полноценный разведочный анализ,\n",
    "- разработка новых синтетических признаков,\n",
    "- проверка на мультиколлинеарность,\n",
    "- отбор финального набора обучающих признаков,\n",
    "- выбор и обучение моделей,\n",
    "- итоговая оценка качества предсказания лучшей модели,\n",
    "- анализ важности ее признаков,\n",
    "- подготовка отчета по исследованию."
   ]
  },
  {
   "cell_type": "markdown",
   "metadata": {},
   "source": [
    "# Описание данных"
   ]
  },
  {
   "cell_type": "markdown",
   "metadata": {},
   "source": [
    "Датасет состоит из двух файлов: \n",
    "- тренировочный набор (около 53к записей) и тестовый набор (около 13к записей). \n",
    "- Тренировочный набор содержит целевой признак status, указывающий на то, закрылся стартап или продолжает действовать. \n",
    "Временной период - '1970-01-01' по '2018-01-01'. \n",
    "Дата формирования выгрузки - '2018-01-01'\n",
    "\n",
    "- `kaggle_startups_train_27042024.csv` - информация (53 000) стартапах, которые будут использоваться в качестве обучающих данных.\n",
    "- `kaggle_startups_test_27042024.csv` - информация (13 000) стартапах, которые будут использоваться в качестве тестовых данных. Ваша задача - предсказать значение 'status' для каждого стартапа из этого датасета.\n",
    "- `kaggle_startups_sample_submit_27042024.csv` - файл с примером предсказаний в правильном формате.\n",
    "name - идентификатор (название) стартапа в тестовом наборе.\n",
    "status - целевой признак. Для каждого стартапа предскажите категориальное значение соответствующее прогнозу ['operating', 'closed']. \n",
    "\n",
    "**Описание полей данных**\n",
    "- `name` - Название стартапа\n",
    "- `category_list` - Список категорий, к которым относится стартап\n",
    "- `funding_total_usd` - Общая сумма финансирования в USD\n",
    "- `status` - Статус стартапа (закрыт или действующий)\n",
    "- `country_code` - Код страны\n",
    "- `state_code` - Код штата\n",
    "- `region` - Регион\n",
    "- `city` - Город\n",
    "- `funding_rounds` - Количество раундов финансирования\n",
    "- `founded_at` - Дата основания\n",
    "- `first_funding_at` - Дата первого раунда финансирования\n",
    "- `last_funding_at` - Дата последнего раунда финансирования\n",
    "- `closed_at` - Дата закрытия стартапа (если применимо)\n",
    "- `lifetime` - Время существования стартапа в днях"
   ]
  },
  {
   "cell_type": "code",
   "execution_count": null,
   "metadata": {},
   "outputs": [],
   "source": [
    "! pip install phik -q\n",
    "! pip install shap -q\n",
    "! pip install -U scikit-learn -q\n",
    "! pip install seaborn --upgrade -q\n",
    "! pip install missingno -q"
   ]
  },
  {
   "cell_type": "code",
   "execution_count": null,
   "metadata": {},
   "outputs": [],
   "source": [
    "%config InlineBackend.figure_formats = ['svg']\n",
    "%matplotlib inline"
   ]
  },
  {
   "cell_type": "code",
   "execution_count": null,
   "metadata": {},
   "outputs": [],
   "source": [
    "import os\n",
    "\n",
    "import matplotlib.pyplot as plt\n",
    "import missingno as msno\n",
    "import pandas as pd"
   ]
  },
  {
   "cell_type": "code",
   "execution_count": null,
   "metadata": {},
   "outputs": [],
   "source": [
    "pd.set_option(\"display.max_colwidth\", None)\n",
    "pd.set_option(\"display.float_format\", \"{:.3f}\".format)"
   ]
  },
  {
   "cell_type": "code",
   "execution_count": null,
   "metadata": {},
   "outputs": [],
   "source": [
    "def preprocessing(df):\n",
    "    print('Изучение данных датафрейма \"\\n')\n",
    "    print(\"Вывод первых 5 строк \\n\")\n",
    "    display(df.head(5))\n",
    "    print(\"-\" * 100)\n",
    "    print(f\"Размерность датафрейма, составляет - {(df.shape)}\")\n",
    "    print(\"-\" * 100)\n",
    "    print(\"Общая информация:\\n\")\n",
    "    display(df.info())\n",
    "    print(\"-\" * 100)\n",
    "    print(\"Описательная статистика:\\n\")\n",
    "    display(df.describe())\n",
    "    print(\"-\" * 100)\n",
    "    df.isna().sum()\n",
    "    print(\"Проверка на наличие явных дубликатов:\\n\")\n",
    "    display(df.duplicated().sum())\n",
    "    print(\"-\" * 100)\n",
    "    print(\"Вывод количества уникальных значений\")\n",
    "    display(pd.DataFrame(df.apply(lambda x: x.nunique())))"
   ]
  },
  {
   "cell_type": "code",
   "execution_count": null,
   "metadata": {},
   "outputs": [],
   "source": [
    "pth1 = \"./datasets/kaggle_startups_train_27042024.csv\"\n",
    "pth2 = \"./datasets/kaggle_startups_test_27042024.csv\"\n",
    "\n",
    "if os.path.exists(pth1):\n",
    "    # Тренировочная выборка:\n",
    "    df_ks_train = pd.read_csv(pth1)\n",
    "    if os.path.exists(pth2):\n",
    "        # Тестовая выборка:\n",
    "        df_ks_test = pd.read_csv(pth2)\n",
    "    else:\n",
    "        print(\"Something is wrong\")"
   ]
  },
  {
   "cell_type": "code",
   "execution_count": null,
   "metadata": {},
   "outputs": [],
   "source": [
    "preprocessing(df_ks_train)"
   ]
  },
  {
   "cell_type": "code",
   "execution_count": null,
   "metadata": {},
   "outputs": [],
   "source": [
    "nan_counts = df_ks_train.isna().sum()\n",
    "print(nan_counts)"
   ]
  },
  {
   "cell_type": "code",
   "execution_count": null,
   "metadata": {},
   "outputs": [],
   "source": [
    "# Создание объекта осей\n",
    "fig, ax = plt.subplots(figsize=(18, 4))\n",
    "# Генерация графика с использованием объекта осей\n",
    "msno.matrix(df_ks_train, ax=ax, sparkline=False)\n",
    "# Добавление названия графика\n",
    "ax.set_title(\"Матрица пропущенных значений\")\n",
    "# Отображение графика\n",
    "plt.show()"
   ]
  }
 ],
 "metadata": {
  "kernelspec": {
   "display_name": "practicum",
   "language": "python",
   "name": "python3"
  },
  "language_info": {
   "codemirror_mode": {
    "name": "ipython",
    "version": 3
   },
   "file_extension": ".py",
   "mimetype": "text/x-python",
   "name": "python",
   "nbconvert_exporter": "python",
   "pygments_lexer": "ipython3",
   "version": "3.9.18"
  }
 },
 "nbformat": 4,
 "nbformat_minor": 2
}
